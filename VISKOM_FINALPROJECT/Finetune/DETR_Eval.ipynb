{
  "nbformat": 4,
  "nbformat_minor": 0,
  "metadata": {
    "colab": {
      "name": "DETR_Eval.ipynb",
      "provenance": [],
      "collapsed_sections": []
    },
    "kernelspec": {
      "name": "python3",
      "display_name": "Python 3"
    },
    "language_info": {
      "name": "python"
    },
    "accelerator": "GPU"
  },
  "cells": [
    {
      "cell_type": "code",
      "execution_count": null,
      "metadata": {
        "colab": {
          "base_uri": "https://localhost:8080/"
        },
        "id": "p1rLc_kDM0CK",
        "outputId": "cc6c3039-7107-4076-ac2a-66ae4a4b5248"
      },
      "outputs": [
        {
          "output_type": "stream",
          "name": "stdout",
          "text": [
            "Downloading...\n",
            "From: https://drive.google.com/uc?id=1iSm_jNCaemIjxBe2DLLyXcH_KAYQniCA\n",
            "To: /content/dataset.zip\n",
            "100% 35.0M/35.0M [00:00<00:00, 129MB/s]\n"
          ]
        }
      ],
      "source": [
        "!gdown https://drive.google.com/uc?id=1iSm_jNCaemIjxBe2DLLyXcH_KAYQniCA\n",
        "!unzip -q /content/dataset.zip"
      ]
    },
    {
      "cell_type": "code",
      "source": [
        "!gdown https://drive.google.com/uc?id=1jChJ14ftUALOpnrCjcpoRfLTRnKMD62W\n",
        "!unzip -q /content/outputs_finetune.zip "
      ],
      "metadata": {
        "colab": {
          "base_uri": "https://localhost:8080/"
        },
        "id": "VpYxJd9qM748",
        "outputId": "eb9c88d1-b47a-43ec-b0ac-357517a6e446"
      },
      "execution_count": null,
      "outputs": [
        {
          "output_type": "stream",
          "name": "stdout",
          "text": [
            "Downloading...\n",
            "From: https://drive.google.com/uc?id=1jChJ14ftUALOpnrCjcpoRfLTRnKMD62W\n",
            "To: /content/outputs_finetune.zip\n",
            "100% 432M/432M [00:05<00:00, 84.9MB/s]\n"
          ]
        }
      ]
    },
    {
      "cell_type": "code",
      "source": [
        "!mv /content/dataset/train /content/dataset/train2017\n",
        "!mv /content/dataset/test /content/dataset/val2017\n",
        "!mv /content/dataset/annotations/train_annotations.json /content/dataset/annotations/instances_train2017.json\n",
        "!mv /content/dataset/annotations/test_annotations.json /content/dataset/annotations/instances_val2017.json"
      ],
      "metadata": {
        "id": "sgqJV_mpM8IS"
      },
      "execution_count": null,
      "outputs": []
    },
    {
      "cell_type": "code",
      "source": [
        "!git clone https://github.com/aivclab/detr\n",
        "!pip install -r /content/detr/requirements.txt\n",
        "!pip install torch==1.8.0 torchvision==0.9.0"
      ],
      "metadata": {
        "colab": {
          "base_uri": "https://localhost:8080/"
        },
        "id": "SmBdt5yOM8LK",
        "outputId": "85bd3e8b-c8ca-45c5-81d8-a024f4a37f81"
      },
      "execution_count": null,
      "outputs": [
        {
          "output_type": "stream",
          "name": "stdout",
          "text": [
            "Cloning into 'detr'...\n",
            "remote: Enumerating objects: 264, done.\u001b[K\n",
            "remote: Total 264 (delta 0), reused 0 (delta 0), pack-reused 264\u001b[K\n",
            "Receiving objects: 100% (264/264), 14.14 MiB | 21.74 MiB/s, done.\n",
            "Resolving deltas: 100% (144/144), done.\n",
            "Collecting pycocotools\n",
            "  Cloning https://github.com/cocodataset/cocoapi.git to /tmp/pip-install-dv9k5_ww/pycocotools_bc07f23b8cc1479884a5a2c8668ef6a2\n",
            "  Running command git clone -q https://github.com/cocodataset/cocoapi.git /tmp/pip-install-dv9k5_ww/pycocotools_bc07f23b8cc1479884a5a2c8668ef6a2\n",
            "Collecting panopticapi\n",
            "  Cloning https://github.com/cocodataset/panopticapi.git to /tmp/pip-install-dv9k5_ww/panopticapi_4dff8efbed8d4b35b5444d5050dc5ea7\n",
            "  Running command git clone -q https://github.com/cocodataset/panopticapi.git /tmp/pip-install-dv9k5_ww/panopticapi_4dff8efbed8d4b35b5444d5050dc5ea7\n",
            "Requirement already satisfied: cython in /usr/local/lib/python3.7/dist-packages (from -r /content/detr/requirements.txt (line 1)) (0.29.26)\n",
            "Collecting submitit\n",
            "  Downloading submitit-1.4.1-py3-none-any.whl (70 kB)\n",
            "\u001b[K     |████████████████████████████████| 70 kB 3.7 MB/s \n",
            "\u001b[?25hRequirement already satisfied: torch>=1.5.0 in /usr/local/lib/python3.7/dist-packages (from -r /content/detr/requirements.txt (line 4)) (1.10.0+cu111)\n",
            "Requirement already satisfied: torchvision>=0.6.0 in /usr/local/lib/python3.7/dist-packages (from -r /content/detr/requirements.txt (line 5)) (0.11.1+cu111)\n",
            "Requirement already satisfied: scipy in /usr/local/lib/python3.7/dist-packages (from -r /content/detr/requirements.txt (line 7)) (1.4.1)\n",
            "Collecting onnx\n",
            "  Downloading onnx-1.10.2-cp37-cp37m-manylinux_2_12_x86_64.manylinux2010_x86_64.whl (12.7 MB)\n",
            "\u001b[K     |████████████████████████████████| 12.7 MB 11.9 MB/s \n",
            "\u001b[?25hCollecting onnxruntime\n",
            "  Downloading onnxruntime-1.10.0-cp37-cp37m-manylinux_2_17_x86_64.manylinux2014_x86_64.whl (4.9 MB)\n",
            "\u001b[K     |████████████████████████████████| 4.9 MB 39.2 MB/s \n",
            "\u001b[?25hRequirement already satisfied: setuptools>=18.0 in /usr/local/lib/python3.7/dist-packages (from pycocotools->-r /content/detr/requirements.txt (line 2)) (57.4.0)\n",
            "Requirement already satisfied: matplotlib>=2.1.0 in /usr/local/lib/python3.7/dist-packages (from pycocotools->-r /content/detr/requirements.txt (line 2)) (3.2.2)\n",
            "Requirement already satisfied: numpy in /usr/local/lib/python3.7/dist-packages (from panopticapi->-r /content/detr/requirements.txt (line 6)) (1.19.5)\n",
            "Requirement already satisfied: Pillow in /usr/local/lib/python3.7/dist-packages (from panopticapi->-r /content/detr/requirements.txt (line 6)) (7.1.2)\n",
            "Requirement already satisfied: typing-extensions in /usr/local/lib/python3.7/dist-packages (from torch>=1.5.0->-r /content/detr/requirements.txt (line 4)) (3.10.0.2)\n",
            "Requirement already satisfied: cycler>=0.10 in /usr/local/lib/python3.7/dist-packages (from matplotlib>=2.1.0->pycocotools->-r /content/detr/requirements.txt (line 2)) (0.11.0)\n",
            "Requirement already satisfied: kiwisolver>=1.0.1 in /usr/local/lib/python3.7/dist-packages (from matplotlib>=2.1.0->pycocotools->-r /content/detr/requirements.txt (line 2)) (1.3.2)\n",
            "Requirement already satisfied: pyparsing!=2.0.4,!=2.1.2,!=2.1.6,>=2.0.1 in /usr/local/lib/python3.7/dist-packages (from matplotlib>=2.1.0->pycocotools->-r /content/detr/requirements.txt (line 2)) (3.0.6)\n",
            "Requirement already satisfied: python-dateutil>=2.1 in /usr/local/lib/python3.7/dist-packages (from matplotlib>=2.1.0->pycocotools->-r /content/detr/requirements.txt (line 2)) (2.8.2)\n",
            "Requirement already satisfied: six>=1.5 in /usr/local/lib/python3.7/dist-packages (from python-dateutil>=2.1->matplotlib>=2.1.0->pycocotools->-r /content/detr/requirements.txt (line 2)) (1.15.0)\n",
            "Requirement already satisfied: cloudpickle>=1.2.1 in /usr/local/lib/python3.7/dist-packages (from submitit->-r /content/detr/requirements.txt (line 3)) (1.3.0)\n",
            "Requirement already satisfied: protobuf in /usr/local/lib/python3.7/dist-packages (from onnx->-r /content/detr/requirements.txt (line 8)) (3.17.3)\n",
            "Requirement already satisfied: flatbuffers in /usr/local/lib/python3.7/dist-packages (from onnxruntime->-r /content/detr/requirements.txt (line 9)) (2.0)\n",
            "Building wheels for collected packages: pycocotools, panopticapi\n",
            "  Building wheel for pycocotools (setup.py) ... \u001b[?25l\u001b[?25hdone\n",
            "  Created wheel for pycocotools: filename=pycocotools-2.0-cp37-cp37m-linux_x86_64.whl size=263974 sha256=25acc35a17c7bfa8f99650eff5335560479cec3b1ca7ec3f174cf80e038518c6\n",
            "  Stored in directory: /tmp/pip-ephem-wheel-cache-57xuqpqd/wheels/e2/6b/1d/344ac773c7495ea0b85eb228bc66daec7400a143a92d36b7b1\n",
            "  Building wheel for panopticapi (setup.py) ... \u001b[?25l\u001b[?25hdone\n",
            "  Created wheel for panopticapi: filename=panopticapi-0.1-py3-none-any.whl size=8306 sha256=507b4af85af808fd548570eeb7b21b889dc48fa226f7733a5c7db349c87db431\n",
            "  Stored in directory: /tmp/pip-ephem-wheel-cache-57xuqpqd/wheels/ad/89/b8/b66cce9246af3d71d65d72c85ab993fd28e7578e1b0ed197f1\n",
            "Successfully built pycocotools panopticapi\n",
            "Installing collected packages: submitit, pycocotools, panopticapi, onnxruntime, onnx\n",
            "  Attempting uninstall: pycocotools\n",
            "    Found existing installation: pycocotools 2.0.3\n",
            "    Uninstalling pycocotools-2.0.3:\n",
            "      Successfully uninstalled pycocotools-2.0.3\n",
            "Successfully installed onnx-1.10.2 onnxruntime-1.10.0 panopticapi-0.1 pycocotools-2.0 submitit-1.4.1\n",
            "Collecting torch==1.8.0\n",
            "  Downloading torch-1.8.0-cp37-cp37m-manylinux1_x86_64.whl (735.5 MB)\n",
            "\u001b[K     |████████████████████████████████| 735.5 MB 14 kB/s \n",
            "\u001b[?25hCollecting torchvision==0.9.0\n",
            "  Downloading torchvision-0.9.0-cp37-cp37m-manylinux1_x86_64.whl (17.3 MB)\n",
            "\u001b[K     |████████████████████████████████| 17.3 MB 109 kB/s \n",
            "\u001b[?25hRequirement already satisfied: numpy in /usr/local/lib/python3.7/dist-packages (from torch==1.8.0) (1.19.5)\n",
            "Requirement already satisfied: typing-extensions in /usr/local/lib/python3.7/dist-packages (from torch==1.8.0) (3.10.0.2)\n",
            "Requirement already satisfied: pillow>=4.1.1 in /usr/local/lib/python3.7/dist-packages (from torchvision==0.9.0) (7.1.2)\n",
            "Installing collected packages: torch, torchvision\n",
            "  Attempting uninstall: torch\n",
            "    Found existing installation: torch 1.10.0+cu111\n",
            "    Uninstalling torch-1.10.0+cu111:\n",
            "      Successfully uninstalled torch-1.10.0+cu111\n",
            "  Attempting uninstall: torchvision\n",
            "    Found existing installation: torchvision 0.11.1+cu111\n",
            "    Uninstalling torchvision-0.11.1+cu111:\n",
            "      Successfully uninstalled torchvision-0.11.1+cu111\n",
            "\u001b[31mERROR: pip's dependency resolver does not currently take into account all the packages that are installed. This behaviour is the source of the following dependency conflicts.\n",
            "torchtext 0.11.0 requires torch==1.10.0, but you have torch 1.8.0 which is incompatible.\n",
            "torchaudio 0.10.0+cu111 requires torch==1.10.0, but you have torch 1.8.0 which is incompatible.\u001b[0m\n",
            "Successfully installed torch-1.8.0 torchvision-0.9.0\n"
          ]
        }
      ]
    },
    {
      "cell_type": "code",
      "source": [
        "n_class = 4 # 3 class (plastic, bio, and rov) + 1 for no class\n",
        "n_batch = 2\n",
        "data_dir = '/content/dataset'\n",
        "resume_file = '/content/outputs/checkpoint.pth'"
      ],
      "metadata": {
        "id": "XBmKmEvxNBTL"
      },
      "execution_count": null,
      "outputs": []
    },
    {
      "cell_type": "code",
      "source": [
        "%cd /content/detr\n",
        "\n",
        "!python main.py \\\n",
        "  --batch_size $n_batch \\\n",
        "  --no_aux_loss \\\n",
        "  --eval \\\n",
        "  --num_classes $n_class \\\n",
        "  --coco_path $data_dir \\\n",
        "  --resume $resume_file \\"
      ],
      "metadata": {
        "colab": {
          "base_uri": "https://localhost:8080/"
        },
        "id": "nxhcQnbrNEFa",
        "outputId": "203736e9-2af8-4122-de30-0eced159bd3b"
      },
      "execution_count": null,
      "outputs": [
        {
          "output_type": "stream",
          "name": "stdout",
          "text": [
            "/content/detr\n",
            "Not using distributed mode\n",
            "git:\n",
            "  sha: 8830cacdc981924169546a0e59d94b6c94fd775d, status: clean, branch: master\n",
            "\n",
            "Namespace(aux_loss=False, backbone='resnet50', batch_size=2, bbox_loss_coef=5, clip_max_norm=0.1, coco_panoptic_path=None, coco_path='/content/dataset', dataset_file='coco', dec_layers=6, device='cuda', dice_loss_coef=1, dilation=False, dim_feedforward=2048, dist_url='env://', distributed=False, dropout=0.1, enc_layers=6, eos_coef=0.1, epochs=300, eval=True, frozen_weights=None, giou_loss_coef=2, hidden_dim=256, lr=0.0001, lr_backbone=1e-05, lr_drop=200, mask_loss_coef=1, masks=False, nheads=8, num_classes=4, num_queries=100, num_workers=2, output_dir='', position_embedding='sine', pre_norm=False, remove_difficult=False, resume='/content/outputs/checkpoint.pth', seed=42, set_cost_bbox=5, set_cost_class=1, set_cost_giou=2, start_epoch=0, weight_decay=0.0001, world_size=1)\n",
            "Building a DETR model with 4 classes\n",
            "Downloading: \"https://download.pytorch.org/models/resnet50-19c8e357.pth\" to /root/.cache/torch/hub/checkpoints/resnet50-19c8e357.pth\n",
            "100% 97.8M/97.8M [00:02<00:00, 48.9MB/s]\n",
            "number of params: 41280009\n",
            "loading annotations into memory...\n",
            "Done (t=0.02s)\n",
            "creating index...\n",
            "index created!\n",
            "loading annotations into memory...\n",
            "Done (t=0.01s)\n",
            "creating index...\n",
            "index created!\n",
            "Test:  [  0/175]  eta: 0:01:38  class_error: 25.00  loss: 0.5517 (0.5517)  loss_ce: 0.2159 (0.2159)  loss_bbox: 0.1852 (0.1852)  loss_giou: 0.1507 (0.1507)  loss_ce_unscaled: 0.2159 (0.2159)  class_error_unscaled: 25.0000 (25.0000)  loss_bbox_unscaled: 0.0370 (0.0370)  loss_giou_unscaled: 0.0753 (0.0753)  cardinality_error_unscaled: 1.0000 (1.0000)  time: 0.5636  data: 0.2426  max mem: 420\n",
            "Test:  [ 10/175]  eta: 0:00:44  class_error: 0.00  loss: 0.5802 (0.5502)  loss_ce: 0.0112 (0.0776)  loss_bbox: 0.1909 (0.2199)  loss_giou: 0.2600 (0.2526)  loss_ce_unscaled: 0.0112 (0.0776)  class_error_unscaled: 0.0000 (7.9545)  loss_bbox_unscaled: 0.0382 (0.0440)  loss_giou_unscaled: 0.1300 (0.1263)  cardinality_error_unscaled: 0.0000 (0.3182)  time: 0.2700  data: 0.0335  max mem: 420\n",
            "Test:  [ 20/175]  eta: 0:00:39  class_error: 0.00  loss: 0.5830 (0.6866)  loss_ce: 0.0225 (0.1079)  loss_bbox: 0.2178 (0.2736)  loss_giou: 0.2600 (0.3051)  loss_ce_unscaled: 0.0225 (0.1079)  class_error_unscaled: 0.0000 (15.7540)  loss_bbox_unscaled: 0.0436 (0.0547)  loss_giou_unscaled: 0.1300 (0.1525)  cardinality_error_unscaled: 0.0000 (0.3571)  time: 0.2391  data: 0.0130  max mem: 420\n",
            "Test:  [ 30/175]  eta: 0:00:36  class_error: 0.00  loss: 0.5925 (0.6874)  loss_ce: 0.0335 (0.1080)  loss_bbox: 0.2442 (0.2607)  loss_giou: 0.3235 (0.3187)  loss_ce_unscaled: 0.0335 (0.1080)  class_error_unscaled: 0.0000 (13.3602)  loss_bbox_unscaled: 0.0488 (0.0521)  loss_giou_unscaled: 0.1618 (0.1594)  cardinality_error_unscaled: 0.5000 (0.4032)  time: 0.2410  data: 0.0140  max mem: 420\n",
            "Test:  [ 40/175]  eta: 0:00:33  class_error: 16.67  loss: 0.5901 (0.6758)  loss_ce: 0.0269 (0.1088)  loss_bbox: 0.2281 (0.2564)  loss_giou: 0.3055 (0.3106)  loss_ce_unscaled: 0.0269 (0.1088)  class_error_unscaled: 0.0000 (12.9472)  loss_bbox_unscaled: 0.0456 (0.0513)  loss_giou_unscaled: 0.1528 (0.1553)  cardinality_error_unscaled: 0.5000 (0.4024)  time: 0.2448  data: 0.0146  max mem: 420\n",
            "Test:  [ 50/175]  eta: 0:00:30  class_error: 33.33  loss: 0.5901 (0.6832)  loss_ce: 0.0269 (0.1068)  loss_bbox: 0.2462 (0.2642)  loss_giou: 0.2748 (0.3121)  loss_ce_unscaled: 0.0269 (0.1068)  class_error_unscaled: 0.0000 (12.8268)  loss_bbox_unscaled: 0.0492 (0.0528)  loss_giou_unscaled: 0.1374 (0.1561)  cardinality_error_unscaled: 0.0000 (0.3627)  time: 0.2427  data: 0.0144  max mem: 420\n",
            "Test:  [ 60/175]  eta: 0:00:28  class_error: 20.00  loss: 0.5666 (0.6943)  loss_ce: 0.0316 (0.1079)  loss_bbox: 0.2495 (0.2707)  loss_giou: 0.2886 (0.3157)  loss_ce_unscaled: 0.0316 (0.1079)  class_error_unscaled: 0.0000 (12.6913)  loss_bbox_unscaled: 0.0499 (0.0541)  loss_giou_unscaled: 0.1443 (0.1579)  cardinality_error_unscaled: 0.5000 (0.3852)  time: 0.2458  data: 0.0154  max mem: 420\n",
            "Test:  [ 70/175]  eta: 0:00:26  class_error: 25.00  loss: 0.6272 (0.7322)  loss_ce: 0.0487 (0.1244)  loss_bbox: 0.2495 (0.2795)  loss_giou: 0.3134 (0.3282)  loss_ce_unscaled: 0.0487 (0.1244)  class_error_unscaled: 0.0000 (15.9507)  loss_bbox_unscaled: 0.0499 (0.0559)  loss_giou_unscaled: 0.1567 (0.1641)  cardinality_error_unscaled: 0.5000 (0.4085)  time: 0.2488  data: 0.0160  max mem: 420\n",
            "Test:  [ 80/175]  eta: 0:00:23  class_error: 0.00  loss: 0.7034 (0.7244)  loss_ce: 0.0482 (0.1165)  loss_bbox: 0.2352 (0.2802)  loss_giou: 0.3105 (0.3278)  loss_ce_unscaled: 0.0482 (0.1165)  class_error_unscaled: 0.0000 (15.4630)  loss_bbox_unscaled: 0.0470 (0.0560)  loss_giou_unscaled: 0.1552 (0.1639)  cardinality_error_unscaled: 0.5000 (0.4321)  time: 0.2502  data: 0.0152  max mem: 420\n",
            "Test:  [ 90/175]  eta: 0:00:21  class_error: 0.00  loss: 0.6435 (0.7276)  loss_ce: 0.0145 (0.1082)  loss_bbox: 0.2600 (0.2890)  loss_giou: 0.3105 (0.3304)  loss_ce_unscaled: 0.0145 (0.1082)  class_error_unscaled: 0.0000 (14.6795)  loss_bbox_unscaled: 0.0520 (0.0578)  loss_giou_unscaled: 0.1552 (0.1652)  cardinality_error_unscaled: 0.5000 (0.4066)  time: 0.2500  data: 0.0153  max mem: 420\n",
            "Test:  [100/175]  eta: 0:00:18  class_error: 0.00  loss: 0.5645 (0.7278)  loss_ce: 0.0121 (0.1174)  loss_bbox: 0.2379 (0.2853)  loss_giou: 0.2809 (0.3251)  loss_ce_unscaled: 0.0121 (0.1174)  class_error_unscaled: 0.0000 (15.0083)  loss_bbox_unscaled: 0.0476 (0.0571)  loss_giou_unscaled: 0.1405 (0.1625)  cardinality_error_unscaled: 0.0000 (0.4059)  time: 0.2474  data: 0.0154  max mem: 420\n",
            "Test:  [110/175]  eta: 0:00:16  class_error: 0.00  loss: 0.5523 (0.7378)  loss_ce: 0.0283 (0.1234)  loss_bbox: 0.2279 (0.2870)  loss_giou: 0.2405 (0.3275)  loss_ce_unscaled: 0.0283 (0.1234)  class_error_unscaled: 0.0000 (15.6832)  loss_bbox_unscaled: 0.0456 (0.0574)  loss_giou_unscaled: 0.1203 (0.1638)  cardinality_error_unscaled: 0.0000 (0.4505)  time: 0.2501  data: 0.0150  max mem: 420\n",
            "Test:  [120/175]  eta: 0:00:13  class_error: 0.00  loss: 0.5962 (0.7396)  loss_ce: 0.0572 (0.1283)  loss_bbox: 0.2169 (0.2853)  loss_giou: 0.2627 (0.3260)  loss_ce_unscaled: 0.0572 (0.1283)  class_error_unscaled: 0.0000 (16.6598)  loss_bbox_unscaled: 0.0434 (0.0571)  loss_giou_unscaled: 0.1313 (0.1630)  cardinality_error_unscaled: 0.5000 (0.4380)  time: 0.2454  data: 0.0149  max mem: 420\n",
            "Test:  [130/175]  eta: 0:00:11  class_error: 0.00  loss: 0.5962 (0.7269)  loss_ce: 0.0425 (0.1230)  loss_bbox: 0.1913 (0.2790)  loss_giou: 0.2720 (0.3248)  loss_ce_unscaled: 0.0425 (0.1230)  class_error_unscaled: 0.0000 (16.4059)  loss_bbox_unscaled: 0.0383 (0.0558)  loss_giou_unscaled: 0.1360 (0.1624)  cardinality_error_unscaled: 0.0000 (0.4351)  time: 0.2379  data: 0.0148  max mem: 420\n",
            "Test:  [140/175]  eta: 0:00:08  class_error: 0.00  loss: 0.5507 (0.7204)  loss_ce: 0.0269 (0.1198)  loss_bbox: 0.1911 (0.2818)  loss_giou: 0.2541 (0.3188)  loss_ce_unscaled: 0.0269 (0.1198)  class_error_unscaled: 0.0000 (16.0697)  loss_bbox_unscaled: 0.0382 (0.0564)  loss_giou_unscaled: 0.1270 (0.1594)  cardinality_error_unscaled: 0.0000 (0.4362)  time: 0.2437  data: 0.0151  max mem: 420\n",
            "Test:  [150/175]  eta: 0:00:06  class_error: 0.00  loss: 0.5092 (0.7091)  loss_ce: 0.0250 (0.1143)  loss_bbox: 0.1995 (0.2792)  loss_giou: 0.2335 (0.3155)  loss_ce_unscaled: 0.0250 (0.1143)  class_error_unscaled: 0.0000 (15.3587)  loss_bbox_unscaled: 0.0399 (0.0558)  loss_giou_unscaled: 0.1168 (0.1578)  cardinality_error_unscaled: 0.0000 (0.4238)  time: 0.2449  data: 0.0149  max mem: 420\n",
            "Test:  [160/175]  eta: 0:00:03  class_error: 0.00  loss: 0.5657 (0.7068)  loss_ce: 0.0250 (0.1129)  loss_bbox: 0.2305 (0.2797)  loss_giou: 0.2634 (0.3142)  loss_ce_unscaled: 0.0250 (0.1129)  class_error_unscaled: 0.0000 (15.6159)  loss_bbox_unscaled: 0.0461 (0.0559)  loss_giou_unscaled: 0.1317 (0.1571)  cardinality_error_unscaled: 0.0000 (0.4348)  time: 0.2427  data: 0.0150  max mem: 420\n",
            "Test:  [170/175]  eta: 0:00:01  class_error: 25.00  loss: 0.6049 (0.6977)  loss_ce: 0.0239 (0.1089)  loss_bbox: 0.2324 (0.2773)  loss_giou: 0.2678 (0.3115)  loss_ce_unscaled: 0.0239 (0.1089)  class_error_unscaled: 0.0000 (15.0439)  loss_bbox_unscaled: 0.0465 (0.0555)  loss_giou_unscaled: 0.1339 (0.1557)  cardinality_error_unscaled: 0.5000 (0.4269)  time: 0.2476  data: 0.0149  max mem: 420\n",
            "Test:  [174/175]  eta: 0:00:00  class_error: 50.00  loss: 0.6049 (0.7052)  loss_ce: 0.0277 (0.1092)  loss_bbox: 0.2467 (0.2808)  loss_giou: 0.2793 (0.3152)  loss_ce_unscaled: 0.0277 (0.1092)  class_error_unscaled: 0.0000 (14.9857)  loss_bbox_unscaled: 0.0493 (0.0562)  loss_giou_unscaled: 0.1396 (0.1576)  cardinality_error_unscaled: 0.5000 (0.4343)  time: 0.2490  data: 0.0140  max mem: 420\n",
            "Test: Total time: 0:00:43 (0.2475 s / it)\n",
            "Averaged stats: class_error: 50.00  loss: 0.6049 (0.7052)  loss_ce: 0.0277 (0.1092)  loss_bbox: 0.2467 (0.2808)  loss_giou: 0.2793 (0.3152)  loss_ce_unscaled: 0.0277 (0.1092)  class_error_unscaled: 0.0000 (14.9857)  loss_bbox_unscaled: 0.0493 (0.0562)  loss_giou_unscaled: 0.1396 (0.1576)  cardinality_error_unscaled: 0.5000 (0.4343)\n",
            "Accumulating evaluation results...\n",
            "DONE (t=0.39s).\n",
            "IoU metric: bbox\n",
            " Average Precision  (AP) @[ IoU=0.50:0.95 | area=   all | maxDets=100 ] = 0.609\n",
            " Average Precision  (AP) @[ IoU=0.50      | area=   all | maxDets=100 ] = 0.844\n",
            " Average Precision  (AP) @[ IoU=0.75      | area=   all | maxDets=100 ] = 0.684\n",
            " Average Precision  (AP) @[ IoU=0.50:0.95 | area= small | maxDets=100 ] = 0.218\n",
            " Average Precision  (AP) @[ IoU=0.50:0.95 | area=medium | maxDets=100 ] = 0.406\n",
            " Average Precision  (AP) @[ IoU=0.50:0.95 | area= large | maxDets=100 ] = 0.701\n",
            " Average Recall     (AR) @[ IoU=0.50:0.95 | area=   all | maxDets=  1 ] = 0.565\n",
            " Average Recall     (AR) @[ IoU=0.50:0.95 | area=   all | maxDets= 10 ] = 0.731\n",
            " Average Recall     (AR) @[ IoU=0.50:0.95 | area=   all | maxDets=100 ] = 0.775\n",
            " Average Recall     (AR) @[ IoU=0.50:0.95 | area= small | maxDets=100 ] = 0.342\n",
            " Average Recall     (AR) @[ IoU=0.50:0.95 | area=medium | maxDets=100 ] = 0.605\n",
            " Average Recall     (AR) @[ IoU=0.50:0.95 | area= large | maxDets=100 ] = 0.859\n"
          ]
        }
      ]
    }
  ]
}