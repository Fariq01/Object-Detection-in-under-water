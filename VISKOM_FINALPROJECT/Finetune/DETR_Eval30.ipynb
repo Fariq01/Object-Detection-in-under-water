{
  "nbformat": 4,
  "nbformat_minor": 0,
  "metadata": {
    "colab": {
      "name": "DETR_Eval30.ipynb",
      "provenance": [],
      "collapsed_sections": []
    },
    "kernelspec": {
      "name": "python3",
      "display_name": "Python 3"
    },
    "language_info": {
      "name": "python"
    },
    "accelerator": "GPU"
  },
  "cells": [
    {
      "cell_type": "code",
      "execution_count": null,
      "metadata": {
        "colab": {
          "base_uri": "https://localhost:8080/"
        },
        "id": "EYSurtbdZIgV",
        "outputId": "18cfc920-fbe0-47ea-ae4b-409b74f5119b"
      },
      "outputs": [
        {
          "output_type": "stream",
          "name": "stdout",
          "text": [
            "Downloading...\n",
            "From: https://drive.google.com/uc?id=1iSm_jNCaemIjxBe2DLLyXcH_KAYQniCA\n",
            "To: /content/dataset.zip\n",
            "\r  0% 0.00/35.0M [00:00<?, ?B/s]\r 34% 12.1M/35.0M [00:00<00:00, 119MB/s]\r100% 35.0M/35.0M [00:00<00:00, 156MB/s]\n"
          ]
        }
      ],
      "source": [
        "!gdown https://drive.google.com/uc?id=1iSm_jNCaemIjxBe2DLLyXcH_KAYQniCA\n",
        "!unzip -q /content/dataset.zip"
      ]
    },
    {
      "cell_type": "code",
      "source": [
        "!gdown https://drive.google.com/uc?id=1eKnrNILngd4NdCkOTMg_UuGuwmQB4vwv\n",
        "!unzip -q /content/outputs_finetune30.zip "
      ],
      "metadata": {
        "colab": {
          "base_uri": "https://localhost:8080/"
        },
        "id": "ViPCM1EEZPRZ",
        "outputId": "cc99a2cc-efa3-4bbb-b021-dcf9041f3527"
      },
      "execution_count": null,
      "outputs": [
        {
          "output_type": "stream",
          "name": "stdout",
          "text": [
            "Downloading...\n",
            "From: https://drive.google.com/uc?id=1eKnrNILngd4NdCkOTMg_UuGuwmQB4vwv\n",
            "To: /content/outputs_finetune30.zip\n",
            "100% 432M/432M [00:09<00:00, 47.2MB/s]\n"
          ]
        }
      ]
    },
    {
      "cell_type": "code",
      "source": [
        "!mv /content/dataset/train /content/dataset/train2017\n",
        "!mv /content/dataset/test /content/dataset/val2017\n",
        "!mv /content/dataset/annotations/train_annotations.json /content/dataset/annotations/instances_train2017.json\n",
        "!mv /content/dataset/annotations/test_annotations.json /content/dataset/annotations/instances_val2017.json"
      ],
      "metadata": {
        "id": "t_Xu4TWUZPTx"
      },
      "execution_count": null,
      "outputs": []
    },
    {
      "cell_type": "code",
      "source": [
        "!git clone https://github.com/aivclab/detr\n",
        "!pip install -r /content/detr/requirements.txt\n",
        "!pip install torch==1.8.0 torchvision==0.9.0"
      ],
      "metadata": {
        "colab": {
          "base_uri": "https://localhost:8080/"
        },
        "id": "eG-3ePz2ZPWg",
        "outputId": "b1aed293-393d-414e-bdbb-e72b1ac3e743"
      },
      "execution_count": null,
      "outputs": [
        {
          "output_type": "stream",
          "name": "stdout",
          "text": [
            "Cloning into 'detr'...\n",
            "remote: Enumerating objects: 264, done.\u001b[K\n",
            "remote: Total 264 (delta 0), reused 0 (delta 0), pack-reused 264\u001b[K\n",
            "Receiving objects: 100% (264/264), 14.14 MiB | 16.70 MiB/s, done.\n",
            "Resolving deltas: 100% (144/144), done.\n",
            "Collecting pycocotools\n",
            "  Cloning https://github.com/cocodataset/cocoapi.git to /tmp/pip-install-mpujl8vs/pycocotools_e61db414e7d149248f870bbed65eb89a\n",
            "  Running command git clone -q https://github.com/cocodataset/cocoapi.git /tmp/pip-install-mpujl8vs/pycocotools_e61db414e7d149248f870bbed65eb89a\n",
            "Collecting panopticapi\n",
            "  Cloning https://github.com/cocodataset/panopticapi.git to /tmp/pip-install-mpujl8vs/panopticapi_56fbd5ca6b484cc5b48e1bb97e67edf6\n",
            "  Running command git clone -q https://github.com/cocodataset/panopticapi.git /tmp/pip-install-mpujl8vs/panopticapi_56fbd5ca6b484cc5b48e1bb97e67edf6\n",
            "Requirement already satisfied: cython in /usr/local/lib/python3.7/dist-packages (from -r /content/detr/requirements.txt (line 1)) (0.29.26)\n",
            "Collecting submitit\n",
            "  Downloading submitit-1.4.1-py3-none-any.whl (70 kB)\n",
            "\u001b[K     |████████████████████████████████| 70 kB 6.1 MB/s \n",
            "\u001b[?25hRequirement already satisfied: torch>=1.5.0 in /usr/local/lib/python3.7/dist-packages (from -r /content/detr/requirements.txt (line 4)) (1.10.0+cu111)\n",
            "Requirement already satisfied: torchvision>=0.6.0 in /usr/local/lib/python3.7/dist-packages (from -r /content/detr/requirements.txt (line 5)) (0.11.1+cu111)\n",
            "Requirement already satisfied: scipy in /usr/local/lib/python3.7/dist-packages (from -r /content/detr/requirements.txt (line 7)) (1.4.1)\n",
            "Collecting onnx\n",
            "  Downloading onnx-1.10.2-cp37-cp37m-manylinux_2_12_x86_64.manylinux2010_x86_64.whl (12.7 MB)\n",
            "\u001b[K     |████████████████████████████████| 12.7 MB 26.2 MB/s \n",
            "\u001b[?25hCollecting onnxruntime\n",
            "  Downloading onnxruntime-1.10.0-cp37-cp37m-manylinux_2_17_x86_64.manylinux2014_x86_64.whl (4.9 MB)\n",
            "\u001b[K     |████████████████████████████████| 4.9 MB 44.0 MB/s \n",
            "\u001b[?25hRequirement already satisfied: setuptools>=18.0 in /usr/local/lib/python3.7/dist-packages (from pycocotools->-r /content/detr/requirements.txt (line 2)) (57.4.0)\n",
            "Requirement already satisfied: matplotlib>=2.1.0 in /usr/local/lib/python3.7/dist-packages (from pycocotools->-r /content/detr/requirements.txt (line 2)) (3.2.2)\n",
            "Requirement already satisfied: numpy in /usr/local/lib/python3.7/dist-packages (from panopticapi->-r /content/detr/requirements.txt (line 6)) (1.19.5)\n",
            "Requirement already satisfied: Pillow in /usr/local/lib/python3.7/dist-packages (from panopticapi->-r /content/detr/requirements.txt (line 6)) (7.1.2)\n",
            "Requirement already satisfied: typing-extensions in /usr/local/lib/python3.7/dist-packages (from torch>=1.5.0->-r /content/detr/requirements.txt (line 4)) (3.10.0.2)\n",
            "Requirement already satisfied: kiwisolver>=1.0.1 in /usr/local/lib/python3.7/dist-packages (from matplotlib>=2.1.0->pycocotools->-r /content/detr/requirements.txt (line 2)) (1.3.2)\n",
            "Requirement already satisfied: python-dateutil>=2.1 in /usr/local/lib/python3.7/dist-packages (from matplotlib>=2.1.0->pycocotools->-r /content/detr/requirements.txt (line 2)) (2.8.2)\n",
            "Requirement already satisfied: pyparsing!=2.0.4,!=2.1.2,!=2.1.6,>=2.0.1 in /usr/local/lib/python3.7/dist-packages (from matplotlib>=2.1.0->pycocotools->-r /content/detr/requirements.txt (line 2)) (3.0.6)\n",
            "Requirement already satisfied: cycler>=0.10 in /usr/local/lib/python3.7/dist-packages (from matplotlib>=2.1.0->pycocotools->-r /content/detr/requirements.txt (line 2)) (0.11.0)\n",
            "Requirement already satisfied: six>=1.5 in /usr/local/lib/python3.7/dist-packages (from python-dateutil>=2.1->matplotlib>=2.1.0->pycocotools->-r /content/detr/requirements.txt (line 2)) (1.15.0)\n",
            "Requirement already satisfied: cloudpickle>=1.2.1 in /usr/local/lib/python3.7/dist-packages (from submitit->-r /content/detr/requirements.txt (line 3)) (1.3.0)\n",
            "Requirement already satisfied: protobuf in /usr/local/lib/python3.7/dist-packages (from onnx->-r /content/detr/requirements.txt (line 8)) (3.17.3)\n",
            "Requirement already satisfied: flatbuffers in /usr/local/lib/python3.7/dist-packages (from onnxruntime->-r /content/detr/requirements.txt (line 9)) (2.0)\n",
            "Building wheels for collected packages: pycocotools, panopticapi\n",
            "  Building wheel for pycocotools (setup.py) ... \u001b[?25l\u001b[?25hdone\n",
            "  Created wheel for pycocotools: filename=pycocotools-2.0-cp37-cp37m-linux_x86_64.whl size=263967 sha256=c6dcd194a7c04d62bc2adf07aa555eecd57d9fc1fd16f9b47366650a78234572\n",
            "  Stored in directory: /tmp/pip-ephem-wheel-cache-kics3x7k/wheels/e2/6b/1d/344ac773c7495ea0b85eb228bc66daec7400a143a92d36b7b1\n",
            "  Building wheel for panopticapi (setup.py) ... \u001b[?25l\u001b[?25hdone\n",
            "  Created wheel for panopticapi: filename=panopticapi-0.1-py3-none-any.whl size=8306 sha256=e1c4eb1ae1b8126ff504e9dec22dd762d0116e7eb211193a3d7878ed204cea4d\n",
            "  Stored in directory: /tmp/pip-ephem-wheel-cache-kics3x7k/wheels/ad/89/b8/b66cce9246af3d71d65d72c85ab993fd28e7578e1b0ed197f1\n",
            "Successfully built pycocotools panopticapi\n",
            "Installing collected packages: submitit, pycocotools, panopticapi, onnxruntime, onnx\n",
            "  Attempting uninstall: pycocotools\n",
            "    Found existing installation: pycocotools 2.0.3\n",
            "    Uninstalling pycocotools-2.0.3:\n",
            "      Successfully uninstalled pycocotools-2.0.3\n",
            "Successfully installed onnx-1.10.2 onnxruntime-1.10.0 panopticapi-0.1 pycocotools-2.0 submitit-1.4.1\n",
            "Collecting torch==1.8.0\n",
            "  Downloading torch-1.8.0-cp37-cp37m-manylinux1_x86_64.whl (735.5 MB)\n",
            "\u001b[K     |████████████████████████████████| 735.5 MB 13 kB/s \n",
            "\u001b[?25hCollecting torchvision==0.9.0\n",
            "  Downloading torchvision-0.9.0-cp37-cp37m-manylinux1_x86_64.whl (17.3 MB)\n",
            "\u001b[K     |████████████████████████████████| 17.3 MB 106 kB/s \n",
            "\u001b[?25hRequirement already satisfied: numpy in /usr/local/lib/python3.7/dist-packages (from torch==1.8.0) (1.19.5)\n",
            "Requirement already satisfied: typing-extensions in /usr/local/lib/python3.7/dist-packages (from torch==1.8.0) (3.10.0.2)\n",
            "Requirement already satisfied: pillow>=4.1.1 in /usr/local/lib/python3.7/dist-packages (from torchvision==0.9.0) (7.1.2)\n",
            "Installing collected packages: torch, torchvision\n",
            "  Attempting uninstall: torch\n",
            "    Found existing installation: torch 1.10.0+cu111\n",
            "    Uninstalling torch-1.10.0+cu111:\n",
            "      Successfully uninstalled torch-1.10.0+cu111\n",
            "  Attempting uninstall: torchvision\n",
            "    Found existing installation: torchvision 0.11.1+cu111\n",
            "    Uninstalling torchvision-0.11.1+cu111:\n",
            "      Successfully uninstalled torchvision-0.11.1+cu111\n",
            "\u001b[31mERROR: pip's dependency resolver does not currently take into account all the packages that are installed. This behaviour is the source of the following dependency conflicts.\n",
            "torchtext 0.11.0 requires torch==1.10.0, but you have torch 1.8.0 which is incompatible.\n",
            "torchaudio 0.10.0+cu111 requires torch==1.10.0, but you have torch 1.8.0 which is incompatible.\u001b[0m\n",
            "Successfully installed torch-1.8.0 torchvision-0.9.0\n"
          ]
        }
      ]
    },
    {
      "cell_type": "code",
      "source": [
        "n_class = 4 # 3 class (plastic, bio, and rov) + 1 for no class\n",
        "n_batch = 2\n",
        "data_dir = '/content/dataset'\n",
        "resume_file = '/content/new_outputs/checkpoint.pth'"
      ],
      "metadata": {
        "id": "JpGAQgH1aSdy"
      },
      "execution_count": null,
      "outputs": []
    },
    {
      "cell_type": "code",
      "source": [
        "%cd /content/detr\n",
        "\n",
        "!python main.py \\\n",
        "  --batch_size $n_batch \\\n",
        "  --no_aux_loss \\\n",
        "  --eval \\\n",
        "  --num_classes $n_class \\\n",
        "  --coco_path $data_dir \\\n",
        "  --resume $resume_file \\"
      ],
      "metadata": {
        "colab": {
          "base_uri": "https://localhost:8080/"
        },
        "id": "uYsZ16t2aSgj",
        "outputId": "7ee1eaa7-264d-49a3-dadc-401486570168"
      },
      "execution_count": null,
      "outputs": [
        {
          "output_type": "stream",
          "name": "stdout",
          "text": [
            "/content/detr\n",
            "Not using distributed mode\n",
            "git:\n",
            "  sha: 8830cacdc981924169546a0e59d94b6c94fd775d, status: clean, branch: master\n",
            "\n",
            "Namespace(aux_loss=False, backbone='resnet50', batch_size=2, bbox_loss_coef=5, clip_max_norm=0.1, coco_panoptic_path=None, coco_path='/content/dataset', dataset_file='coco', dec_layers=6, device='cuda', dice_loss_coef=1, dilation=False, dim_feedforward=2048, dist_url='env://', distributed=False, dropout=0.1, enc_layers=6, eos_coef=0.1, epochs=300, eval=True, frozen_weights=None, giou_loss_coef=2, hidden_dim=256, lr=0.0001, lr_backbone=1e-05, lr_drop=200, mask_loss_coef=1, masks=False, nheads=8, num_classes=4, num_queries=100, num_workers=2, output_dir='', position_embedding='sine', pre_norm=False, remove_difficult=False, resume='/content/new_outputs/checkpoint.pth', seed=42, set_cost_bbox=5, set_cost_class=1, set_cost_giou=2, start_epoch=0, weight_decay=0.0001, world_size=1)\n",
            "Building a DETR model with 4 classes\n",
            "Downloading: \"https://download.pytorch.org/models/resnet50-19c8e357.pth\" to /root/.cache/torch/hub/checkpoints/resnet50-19c8e357.pth\n",
            "100% 97.8M/97.8M [00:00<00:00, 167MB/s]\n",
            "number of params: 41280009\n",
            "loading annotations into memory...\n",
            "Done (t=0.02s)\n",
            "creating index...\n",
            "index created!\n",
            "loading annotations into memory...\n",
            "Done (t=0.01s)\n",
            "creating index...\n",
            "index created!\n",
            "Test:  [  0/175]  eta: 0:01:37  class_error: 0.00  loss: 0.5457 (0.5457)  loss_ce: 0.0730 (0.0730)  loss_bbox: 0.2416 (0.2416)  loss_giou: 0.2311 (0.2311)  loss_ce_unscaled: 0.0730 (0.0730)  class_error_unscaled: 0.0000 (0.0000)  loss_bbox_unscaled: 0.0483 (0.0483)  loss_giou_unscaled: 0.1156 (0.1156)  cardinality_error_unscaled: 2.0000 (2.0000)  time: 0.5548  data: 0.2264  max mem: 420\n",
            "Test:  [ 10/175]  eta: 0:00:43  class_error: 0.00  loss: 0.5046 (0.5013)  loss_ce: 0.0065 (0.0528)  loss_bbox: 0.1719 (0.1984)  loss_giou: 0.2393 (0.2501)  loss_ce_unscaled: 0.0065 (0.0528)  class_error_unscaled: 0.0000 (4.5455)  loss_bbox_unscaled: 0.0344 (0.0397)  loss_giou_unscaled: 0.1197 (0.1250)  cardinality_error_unscaled: 0.0000 (0.3182)  time: 0.2661  data: 0.0321  max mem: 420\n",
            "Test:  [ 20/175]  eta: 0:00:39  class_error: 0.00  loss: 0.5046 (0.6234)  loss_ce: 0.0088 (0.0887)  loss_bbox: 0.2268 (0.2351)  loss_giou: 0.2393 (0.2997)  loss_ce_unscaled: 0.0088 (0.0887)  class_error_unscaled: 0.0000 (10.6349)  loss_bbox_unscaled: 0.0454 (0.0470)  loss_giou_unscaled: 0.1197 (0.1498)  cardinality_error_unscaled: 0.0000 (0.3810)  time: 0.2372  data: 0.0132  max mem: 420\n",
            "Test:  [ 30/175]  eta: 0:00:36  class_error: 0.00  loss: 0.5861 (0.6257)  loss_ce: 0.0306 (0.0874)  loss_bbox: 0.2399 (0.2336)  loss_giou: 0.2802 (0.3047)  loss_ce_unscaled: 0.0306 (0.0874)  class_error_unscaled: 0.0000 (10.1613)  loss_bbox_unscaled: 0.0480 (0.0467)  loss_giou_unscaled: 0.1401 (0.1524)  cardinality_error_unscaled: 0.5000 (0.3548)  time: 0.2386  data: 0.0132  max mem: 420\n",
            "Test:  [ 40/175]  eta: 0:00:33  class_error: 16.67  loss: 0.5238 (0.6134)  loss_ce: 0.0260 (0.0858)  loss_bbox: 0.1881 (0.2291)  loss_giou: 0.3108 (0.2984)  loss_ce_unscaled: 0.0260 (0.0858)  class_error_unscaled: 0.0000 (10.7317)  loss_bbox_unscaled: 0.0376 (0.0458)  loss_giou_unscaled: 0.1554 (0.1492)  cardinality_error_unscaled: 0.5000 (0.3659)  time: 0.2398  data: 0.0124  max mem: 420\n",
            "Test:  [ 50/175]  eta: 0:00:30  class_error: 0.00  loss: 0.5634 (0.6191)  loss_ce: 0.0096 (0.0732)  loss_bbox: 0.2574 (0.2435)  loss_giou: 0.2987 (0.3024)  loss_ce_unscaled: 0.0096 (0.0732)  class_error_unscaled: 0.0000 (9.0196)  loss_bbox_unscaled: 0.0515 (0.0487)  loss_giou_unscaled: 0.1493 (0.1512)  cardinality_error_unscaled: 0.5000 (0.3529)  time: 0.2384  data: 0.0127  max mem: 420\n",
            "Test:  [ 60/175]  eta: 0:00:28  class_error: 0.00  loss: 0.5634 (0.6181)  loss_ce: 0.0117 (0.0743)  loss_bbox: 0.2574 (0.2452)  loss_giou: 0.2812 (0.2987)  loss_ce_unscaled: 0.0117 (0.0743)  class_error_unscaled: 0.0000 (9.1803)  loss_bbox_unscaled: 0.0515 (0.0490)  loss_giou_unscaled: 0.1406 (0.1493)  cardinality_error_unscaled: 0.0000 (0.3607)  time: 0.2413  data: 0.0136  max mem: 420\n",
            "Test:  [ 70/175]  eta: 0:00:25  class_error: 25.00  loss: 0.6017 (0.6667)  loss_ce: 0.0233 (0.0915)  loss_bbox: 0.2282 (0.2603)  loss_giou: 0.3083 (0.3149)  loss_ce_unscaled: 0.0233 (0.0915)  class_error_unscaled: 0.0000 (12.4648)  loss_bbox_unscaled: 0.0456 (0.0521)  loss_giou_unscaled: 0.1541 (0.1575)  cardinality_error_unscaled: 0.5000 (0.3732)  time: 0.2442  data: 0.0144  max mem: 420\n",
            "Test:  [ 80/175]  eta: 0:00:23  class_error: 0.00  loss: 0.6030 (0.6601)  loss_ce: 0.0230 (0.0875)  loss_bbox: 0.2714 (0.2607)  loss_giou: 0.3219 (0.3119)  loss_ce_unscaled: 0.0230 (0.0875)  class_error_unscaled: 0.0000 (12.1605)  loss_bbox_unscaled: 0.0543 (0.0521)  loss_giou_unscaled: 0.1609 (0.1559)  cardinality_error_unscaled: 0.5000 (0.3519)  time: 0.2423  data: 0.0139  max mem: 420\n",
            "Test:  [ 90/175]  eta: 0:00:20  class_error: 0.00  loss: 0.6265 (0.6638)  loss_ce: 0.0144 (0.0842)  loss_bbox: 0.2714 (0.2654)  loss_giou: 0.3094 (0.3142)  loss_ce_unscaled: 0.0144 (0.0842)  class_error_unscaled: 0.0000 (11.9231)  loss_bbox_unscaled: 0.0543 (0.0531)  loss_giou_unscaled: 0.1547 (0.1571)  cardinality_error_unscaled: 0.0000 (0.3352)  time: 0.2402  data: 0.0126  max mem: 420\n",
            "Test:  [100/175]  eta: 0:00:18  class_error: 0.00  loss: 0.5725 (0.6588)  loss_ce: 0.0056 (0.0891)  loss_bbox: 0.1948 (0.2614)  loss_giou: 0.2757 (0.3083)  loss_ce_unscaled: 0.0056 (0.0891)  class_error_unscaled: 0.0000 (12.0792)  loss_bbox_unscaled: 0.0390 (0.0523)  loss_giou_unscaled: 0.1378 (0.1541)  cardinality_error_unscaled: 0.0000 (0.3762)  time: 0.2409  data: 0.0134  max mem: 420\n",
            "Test:  [110/175]  eta: 0:00:15  class_error: 0.00  loss: 0.4912 (0.6789)  loss_ce: 0.0304 (0.0977)  loss_bbox: 0.2060 (0.2674)  loss_giou: 0.2057 (0.3138)  loss_ce_unscaled: 0.0304 (0.0977)  class_error_unscaled: 0.0000 (13.0180)  loss_bbox_unscaled: 0.0412 (0.0535)  loss_giou_unscaled: 0.1028 (0.1569)  cardinality_error_unscaled: 0.5000 (0.3874)  time: 0.2448  data: 0.0142  max mem: 420\n",
            "Test:  [120/175]  eta: 0:00:13  class_error: 0.00  loss: 0.4912 (0.6804)  loss_ce: 0.0332 (0.1003)  loss_bbox: 0.2272 (0.2662)  loss_giou: 0.2486 (0.3139)  loss_ce_unscaled: 0.0332 (0.1003)  class_error_unscaled: 0.0000 (13.5262)  loss_bbox_unscaled: 0.0454 (0.0532)  loss_giou_unscaled: 0.1243 (0.1570)  cardinality_error_unscaled: 0.5000 (0.3802)  time: 0.2412  data: 0.0143  max mem: 420\n",
            "Test:  [130/175]  eta: 0:00:10  class_error: 0.00  loss: 0.4639 (0.6635)  loss_ce: 0.0235 (0.0958)  loss_bbox: 0.1771 (0.2585)  loss_giou: 0.2332 (0.3093)  loss_ce_unscaled: 0.0235 (0.0958)  class_error_unscaled: 0.0000 (13.2570)  loss_bbox_unscaled: 0.0354 (0.0517)  loss_giou_unscaled: 0.1166 (0.1546)  cardinality_error_unscaled: 0.0000 (0.3855)  time: 0.2342  data: 0.0139  max mem: 420\n",
            "Test:  [140/175]  eta: 0:00:08  class_error: 0.00  loss: 0.4828 (0.6590)  loss_ce: 0.0118 (0.0924)  loss_bbox: 0.1463 (0.2626)  loss_giou: 0.2332 (0.3039)  loss_ce_unscaled: 0.0118 (0.0924)  class_error_unscaled: 0.0000 (12.9078)  loss_bbox_unscaled: 0.0293 (0.0525)  loss_giou_unscaled: 0.1166 (0.1520)  cardinality_error_unscaled: 0.0000 (0.3759)  time: 0.2394  data: 0.0134  max mem: 420\n",
            "Test:  [150/175]  eta: 0:00:06  class_error: 0.00  loss: 0.4879 (0.6491)  loss_ce: 0.0108 (0.0872)  loss_bbox: 0.2297 (0.2607)  loss_giou: 0.2100 (0.3012)  loss_ce_unscaled: 0.0108 (0.0872)  class_error_unscaled: 0.0000 (12.0530)  loss_bbox_unscaled: 0.0459 (0.0521)  loss_giou_unscaled: 0.1050 (0.1506)  cardinality_error_unscaled: 0.0000 (0.3609)  time: 0.2395  data: 0.0130  max mem: 420\n",
            "Test:  [160/175]  eta: 0:00:03  class_error: 0.00  loss: 0.5555 (0.6489)  loss_ce: 0.0111 (0.0898)  loss_bbox: 0.2126 (0.2593)  loss_giou: 0.2100 (0.2999)  loss_ce_unscaled: 0.0111 (0.0898)  class_error_unscaled: 0.0000 (12.3602)  loss_bbox_unscaled: 0.0425 (0.0519)  loss_giou_unscaled: 0.1050 (0.1499)  cardinality_error_unscaled: 0.0000 (0.3540)  time: 0.2373  data: 0.0130  max mem: 420\n",
            "Test:  [170/175]  eta: 0:00:01  class_error: 0.00  loss: 0.5982 (0.6390)  loss_ce: 0.0149 (0.0857)  loss_bbox: 0.2123 (0.2572)  loss_giou: 0.2172 (0.2961)  loss_ce_unscaled: 0.0149 (0.0857)  class_error_unscaled: 0.0000 (11.8324)  loss_bbox_unscaled: 0.0425 (0.0514)  loss_giou_unscaled: 0.1086 (0.1481)  cardinality_error_unscaled: 0.0000 (0.3421)  time: 0.2435  data: 0.0131  max mem: 420\n",
            "Test:  [174/175]  eta: 0:00:00  class_error: 75.00  loss: 0.6108 (0.6461)  loss_ce: 0.0149 (0.0876)  loss_bbox: 0.2129 (0.2599)  loss_giou: 0.2612 (0.2987)  loss_ce_unscaled: 0.0149 (0.0876)  class_error_unscaled: 0.0000 (12.1810)  loss_bbox_unscaled: 0.0426 (0.0520)  loss_giou_unscaled: 0.1306 (0.1493)  cardinality_error_unscaled: 0.0000 (0.3486)  time: 0.2451  data: 0.0129  max mem: 420\n",
            "Test: Total time: 0:00:42 (0.2426 s / it)\n",
            "Averaged stats: class_error: 75.00  loss: 0.6108 (0.6461)  loss_ce: 0.0149 (0.0876)  loss_bbox: 0.2129 (0.2599)  loss_giou: 0.2612 (0.2987)  loss_ce_unscaled: 0.0149 (0.0876)  class_error_unscaled: 0.0000 (12.1810)  loss_bbox_unscaled: 0.0426 (0.0520)  loss_giou_unscaled: 0.1306 (0.1493)  cardinality_error_unscaled: 0.0000 (0.3486)\n",
            "Accumulating evaluation results...\n",
            "DONE (t=0.39s).\n",
            "IoU metric: bbox\n",
            " Average Precision  (AP) @[ IoU=0.50:0.95 | area=   all | maxDets=100 ] = 0.650\n",
            " Average Precision  (AP) @[ IoU=0.50      | area=   all | maxDets=100 ] = 0.891\n",
            " Average Precision  (AP) @[ IoU=0.75      | area=   all | maxDets=100 ] = 0.734\n",
            " Average Precision  (AP) @[ IoU=0.50:0.95 | area= small | maxDets=100 ] = 0.334\n",
            " Average Precision  (AP) @[ IoU=0.50:0.95 | area=medium | maxDets=100 ] = 0.451\n",
            " Average Precision  (AP) @[ IoU=0.50:0.95 | area= large | maxDets=100 ] = 0.740\n",
            " Average Recall     (AR) @[ IoU=0.50:0.95 | area=   all | maxDets=  1 ] = 0.593\n",
            " Average Recall     (AR) @[ IoU=0.50:0.95 | area=   all | maxDets= 10 ] = 0.745\n",
            " Average Recall     (AR) @[ IoU=0.50:0.95 | area=   all | maxDets=100 ] = 0.785\n",
            " Average Recall     (AR) @[ IoU=0.50:0.95 | area= small | maxDets=100 ] = 0.433\n",
            " Average Recall     (AR) @[ IoU=0.50:0.95 | area=medium | maxDets=100 ] = 0.620\n",
            " Average Recall     (AR) @[ IoU=0.50:0.95 | area= large | maxDets=100 ] = 0.868\n"
          ]
        }
      ]
    },
    {
      "cell_type": "code",
      "source": [
        ""
      ],
      "metadata": {
        "id": "f3Z5RMpVaSlo"
      },
      "execution_count": null,
      "outputs": []
    }
  ]
}